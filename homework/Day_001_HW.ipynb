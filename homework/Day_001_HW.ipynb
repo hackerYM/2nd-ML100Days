{
 "cells": [
  {
   "cell_type": "markdown",
   "metadata": {},
   "source": [
    "<font face=\"微軟正黑體\">\n",
    "\n",
    "## Related Articles\n",
    "\n",
    "- [機器學習\\統計方法: 模型評估-驗證指標(validation index)](https://medium.com/@chih.sheng.huang821/機器學習-統計方法-模型評估-驗證指標-b03825ff0814)\n",
    "\n",
    "- [統計學:大家都喜歡問的系列-p值是什麼](https://medium.com/@chih.sheng.huang821/統計學-大家都喜歡問的系列-p值是什麼-2c03dbe8fddf)"
   ]
  },
  {
   "cell_type": "markdown",
   "metadata": {},
   "source": [
    "<font face=\"微軟正黑體\">\n",
    "\n",
    "## Troubleshooting\n",
    "\n",
    "**[目錄問題] Jupyter 目錄指向問題**\n",
    "\n",
    "    因為 jupyter 會預設將 notebook 開在 cmd 的當前目錄，所以你可以在 cmd 先用 cd 的指令切換路徑到 D:\\Github\\xxx 底下 (如果是 Anaconda Prompt 的話，切換磁碟機直接輸入 \"D:\" 後，再 \"cd github\\XXX\")，再輸入 jupyter notebook 即可\n",
    "\n",
    "    或者在開啟 jupyter notebook 時輸入 \"jupyter notebook --notebook-dir=D:\\Github\\"
   ]
  },
  {
   "cell_type": "markdown",
   "metadata": {},
   "source": [
    "<font face=\"微軟正黑體\">\n",
    "\n",
    "## HW 1\n",
    "\n",
    "請上 Kaggle, 在 Competitions 或 Dataset 中找一組競賽或資料並寫下：\n",
    "\n",
    "\n",
    "**Dataset : [Global Terrorism Database](https://www.kaggle.com/START-UMD/gtd)**\n",
    "\n",
    "\n",
    "* 你選的這組資料為何重要\n",
    "\n",
    "    近年恐怖攻擊頻傳，希望分析出有用的資訊，對世界做一點點小貢獻。  \n",
    "\n",
    "\n",
    "* 資料從何而來 (tips: 譬如提供者是誰、以什麼方式蒐集)\n",
    "\n",
    "    [START](https://www.start.umd.edu) - The National Consortium for the Study of Terrorism and Responses to Terrorism  \n",
    "\n",
    "\n",
    "* 蒐集而來的資料型態為何\n",
    "\n",
    "    結構化資料，csv 檔案\n",
    "\n",
    "\n",
    "* 這組資料想解決的問題如何評估\n",
    "\n",
    "    預測該地點接下來發生的機率 --> 迴歸分析, Mean Squared Error, MSE"
   ]
  },
  {
   "cell_type": "markdown",
   "metadata": {
    "collapsed": true
   },
   "source": [
    "<font face=\"微軟正黑體\">\n",
    "\n",
    "## HW 2\n",
    "\n",
    "想像你經營一個自由載客車隊，你希望能透過數據分析以提升業績，請你思考並描述你如何規劃整體的分析/解決方案：\n",
    "\n",
    "* 核心問題為何 (tips：如何定義 「提升業績 & 你的假設」)\n",
    "\n",
    "    增加顧客忠誠度，收集各項服務指標，車種、布置、抵達時間等等，來製作 model 預測，真實結果由使用者評分。\n",
    "\n",
    "\n",
    "* 資料從何而來 (tips：哪些資料可能會對你想問的問題產生影響 & 資料如何蒐集)\n",
    "\n",
    "    - 服務指標 - 載客車隊提供\n",
    "    - 真實結果 - 使用者滿意度 \n",
    "\n",
    "\n",
    "* 蒐集而來的資料型態為何\n",
    "\n",
    "    服務指標為數值和種類，真實結果為數值(0-10)，產生結構化資料，csv 檔案\n",
    "\n",
    "\n",
    "* 你要回答的問題，其如何評估 (tips：你的假設如何驗證)\n",
    "\n",
    "    model 用各項服務指標，預測使用者滿意度，最後，比對使用者真實評分 --> 迴歸分析, Mean Absolute Error, MAE"
   ]
  },
  {
   "cell_type": "markdown",
   "metadata": {},
   "source": [
    "<font face=\"微軟正黑體\">\n",
    "\n",
    "## HW 3"
   ]
  },
  {
   "cell_type": "code",
   "execution_count": 7,
   "metadata": {
    "collapsed": true
   },
   "outputs": [],
   "source": [
    "import numpy as np\n",
    "import matplotlib.pyplot as plt"
   ]
  },
  {
   "cell_type": "code",
   "execution_count": 8,
   "metadata": {},
   "outputs": [
    {
     "data": {
      "image/png": "[encoded data removed]",
      "text/plain": [
       "<matplotlib.figure.Figure at 0x1e2ad553278>"
      ]
     },
     "metadata": {},
     "output_type": "display_data"
    }
   ],
   "source": [
    "w = 3\n",
    "b = 0.5\n",
    "\n",
    "x_lin = np.linspace(0, 100, 101)\n",
    "y = (x_lin + np.random.randn(101) * 5) * w + b\n",
    "\n",
    "plt.plot(x_lin, y, 'b.', label = 'data points')\n",
    "plt.title(\"Assume we have data points\")\n",
    "plt.legend(loc = 2)\n",
    "\n",
    "plt.show()"
   ]
  },
  {
   "cell_type": "code",
   "execution_count": 9,
   "metadata": {},
   "outputs": [
    {
     "data": {
      "image/png": "[encoded data removed]",
      "text/plain": [
       "<matplotlib.figure.Figure at 0x1e2ad1575f8>"
      ]
     },
     "metadata": {},
     "output_type": "display_data"
    }
   ],
   "source": [
    "y_hat = x_lin * w + b\n",
    "\n",
    "plt.plot(x_lin, y, 'b.', label = 'data')\n",
    "plt.plot(x_lin, y_hat, 'r-', label = 'prediction')\n",
    "plt.title(\"Assume we have data points (And the prediction)\")\n",
    "plt.legend(loc = 2)\n",
    "\n",
    "plt.show()"
   ]
  },
  {
   "cell_type": "code",
   "execution_count": 10,
   "metadata": {
    "collapsed": true
   },
   "outputs": [],
   "source": [
    "def mean_squared_error(y, yp):\n",
    "    \"\"\"\n",
    "    計算 MSE\n",
    "    Args:\n",
    "        - y: 實際值 - numpy.array\n",
    "        - yp: 預測值 - numpy.array\n",
    "    Return:\n",
    "        - mse: MSE - float\n",
    "    \"\"\"\n",
    "    mse = MSE = sum(np.square(y - yp)) / len(y)  # MSE = np.square(y - yp).mean()\n",
    "    return mse"
   ]
  },
  {
   "cell_type": "code",
   "execution_count": 11,
   "metadata": {
    "collapsed": true
   },
   "outputs": [],
   "source": [
    "def mean_absolute_error(y, yp):\n",
    "    \"\"\"\n",
    "    計算 MAE\n",
    "    Args:\n",
    "        - y: 實際值\n",
    "        - yp: 預測值\n",
    "    Return:\n",
    "        - mae: MAE\n",
    "    \"\"\"\n",
    "    mae = MAE = sum(abs(y - yp)) / len(y)\n",
    "    return mae"
   ]
  },
  {
   "cell_type": "code",
   "execution_count": 12,
   "metadata": {},
   "outputs": [
    {
     "name": "stdout",
     "output_type": "stream",
     "text": [
      "The Mean squared error is 239.713\n",
      "The Mean absolute error is 12.368\n"
     ]
    }
   ],
   "source": [
    "# 執行 Function, 確認有沒有正常執行\n",
    "\n",
    "MSE = mean_squared_error(y, y_hat)\n",
    "MAE = mean_absolute_error(y, y_hat)\n",
    "\n",
    "print(\"The Mean squared error is %.3f\" % (MSE))\n",
    "print(\"The Mean absolute error is %.3f\" % (MAE))"
   ]
  }
 ],
 "metadata": {
  "kernelspec": {
   "display_name": "Python 3",
   "language": "python",
   "name": "python3"
  },
  "language_info": {
   "codemirror_mode": {
    "name": "ipython",
    "version": 3
   },
   "file_extension": ".py",
   "mimetype": "text/x-python",
   "name": "python",
   "nbconvert_exporter": "python",
   "pygments_lexer": "ipython3",
   "version": "3.6.3"
  }
 },
 "nbformat": 4,
 "nbformat_minor": 2
}
