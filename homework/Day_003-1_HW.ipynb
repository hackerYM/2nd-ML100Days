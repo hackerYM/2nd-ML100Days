{
 "cells": [
  {
   "cell_type": "markdown",
   "metadata": {
    "collapsed": true
   },
   "source": [
    "<font face=\"微軟正黑體\">\n",
    "\n",
    "## Build DataFrame\n",
    "\n",
    "- [Different ways to create Pandas Dataframe](https://www.geeksforgeeks.org/different-ways-to-create-pandas-dataframe/)"
   ]
  },
  {
   "cell_type": "code",
   "execution_count": 95,
   "metadata": {
    "collapsed": true
   },
   "outputs": [],
   "source": [
    "import pandas as pd\n",
    "import numpy as np\n",
    "import json"
   ]
  },
  {
   "cell_type": "code",
   "execution_count": 96,
   "metadata": {},
   "outputs": [
    {
     "name": "stdout",
     "output_type": "stream",
     "text": [
      "     city  visitor weekday\n",
      "0  Austin      139     Sun\n",
      "1  Dallas      237     Sun\n",
      "2  Austin      326     Mon\n",
      "3  Dallas      456     Mon\n"
     ]
    }
   ],
   "source": [
    "# Method 1\n",
    "\n",
    "data = {\n",
    "    'weekday': ['Sun', 'Sun', 'Mon', 'Mon'],\n",
    "    'city': ['Austin', 'Dallas', 'Austin', 'Dallas'],\n",
    "    'visitor': [139, 237, 326, 456]\n",
    "}\n",
    "\n",
    "visitors_1 = pd.DataFrame(data)\n",
    "print(visitors_1)"
   ]
  },
  {
   "cell_type": "code",
   "execution_count": 97,
   "metadata": {},
   "outputs": [
    {
     "name": "stdout",
     "output_type": "stream",
     "text": [
      "     city  visitor weekday\n",
      "0  Austin      139     Sun\n",
      "1  Dallas      237     Sun\n",
      "2  Austin      326     Mon\n",
      "3  Dallas      456     Mon\n"
     ]
    }
   ],
   "source": [
    "# Method 2\n",
    "\n",
    "cities = ['Austin', 'Dallas', 'Austin', 'Dallas']\n",
    "weekdays = ['Sun', 'Sun', 'Mon', 'Mon']\n",
    "visitors = [139, 237, 326, 456]\n",
    "\n",
    "list_labels = ['city', 'weekday', 'visitor']\n",
    "list_cols = [cities, weekdays, visitors]\n",
    "\n",
    "zipped = list(zip(list_labels, list_cols))\n",
    "\n",
    "visitors_2 = pd.DataFrame(dict(zipped))\n",
    "print(visitors_2)"
   ]
  },
  {
   "cell_type": "markdown",
   "metadata": {},
   "source": [
    "<font face=\"微軟正黑體\">\n",
    "\n",
    "## 一個簡單例子\n",
    "\n",
    "假設你想知道如果利用 pandas 計算上述資料中，每個 weekday 的平均 visitor 數量，\n",
    "\n",
    "通過 google 你找到了 https://stackoverflow.com/questions/30482071/how-to-calculate-mean-values-grouped-on-another-column-in-pandas\n",
    "\n",
    "想要測試的時候就可以用 visitors_1 這個只有 4 筆資料的資料集來測試程式碼"
   ]
  },
  {
   "cell_type": "code",
   "execution_count": 98,
   "metadata": {},
   "outputs": [
    {
     "name": "stdout",
     "output_type": "stream",
     "text": [
      "<class 'pandas.core.groupby.DataFrameGroupBy'>\n",
      "--- groupby weekday - size ---\n",
      "weekday\n",
      "Mon    3\n",
      "Sun    1\n",
      "dtype: int64\n",
      "\n",
      "--- groupby weekday - groups ---\n",
      "{'Mon': Int64Index([1, 2, 3], dtype='int64'), 'Sun': Int64Index([0], dtype='int64')}\n",
      "\n",
      "--- groupby weekday - mean ---\n",
      "         visitor1  visitor2\n",
      "weekday                    \n",
      "Mon           339       516\n",
      "Sun           139       233\n",
      "\n",
      "--- groupby weekday - sum ---\n",
      "         visitor1  visitor2\n",
      "weekday                    \n",
      "Mon          1019      1548\n",
      "Sun           139       233\n",
      "\n",
      "--- groupby weekday - visitor1 mean ---\n",
      "weekday\n",
      "Mon    339.666667\n",
      "Sun    139.000000\n",
      "Name: visitor1, dtype: float64\n",
      "\n"
     ]
    }
   ],
   "source": [
    "data = {\n",
    "    'weekday': ['Sun', 'Mon', 'Mon', 'Mon'],\n",
    "    'city': ['Austin', 'Dallas', 'Austin', 'Dallas'],\n",
    "    'visitor1': [139, 237, 326, 456],\n",
    "    'visitor2': [233, 444, 315, 789]\n",
    "}\n",
    "\n",
    "visitors_3 = pd.DataFrame(data)\n",
    "groupby_weekday = visitors_3.groupby(by=\"weekday\")\n",
    "print(type(groupby_weekday))\n",
    "\n",
    "print(\"--- groupby weekday - size ---\\n{}\\n\".format(groupby_weekday.size()))\n",
    "print(\"--- groupby weekday - groups ---\\n{}\\n\".format(groupby_weekday.groups))\n",
    "print(\"--- groupby weekday - mean ---\\n{}\\n\".format(groupby_weekday.mean().astype(int)))\n",
    "print(\"--- groupby weekday - sum ---\\n{}\\n\".format(groupby_weekday.sum()))\n",
    "print(\"--- groupby weekday - visitor1 mean ---\\n{}\\n\".format(groupby_weekday[\"visitor1\"].mean()))"
   ]
  },
  {
   "cell_type": "markdown",
   "metadata": {},
   "source": [
    "<font face=\"微軟正黑體\">\n",
    "\n",
    "## 練習時間\n",
    "\n",
    "在小量的資料上，我們用眼睛就可以看得出來程式碼是否有跑出我們理想中的結果\n",
    "\n",
    "請嘗試想像一個你需要的資料結構 (裡面的值可以是隨機的)，然後用上述的方法把它變成 pandas DataFrame\n",
    "\n",
    "#### Ex: 想像一個 dataframe 有兩個欄位，一個是國家，一個是人口，求人口數最多的國家\n",
    "\n",
    "### Hints: [隨機產生數值](https://blog.csdn.net/christianashannon/article/details/78867204)"
   ]
  },
  {
   "cell_type": "code",
   "execution_count": 99,
   "metadata": {},
   "outputs": [],
   "source": [
    "# Build countries DataFrame\n",
    "\n",
    "countries = [\"Taiwan\", \"United States\", \"Thailand\"]\n",
    "population = np.random.randint(low=10E6, high=10E7, size=3)\n",
    "columns_label = [\"countries\", \"population\"]\n",
    "\n",
    "# countries_df = pd.DataFrame(dict(list(zip(columns_label, [countries, population]))))\n",
    "countries_df = pd.DataFrame(list(zip(countries, population)), columns=columns_label)"
   ]
  },
  {
   "cell_type": "code",
   "execution_count": 100,
   "metadata": {},
   "outputs": [
    {
     "name": "stdout",
     "output_type": "stream",
     "text": [
      "       countries  population\n",
      "0         Taiwan    73097243\n",
      "1  United States    51917710\n",
      "2       Thailand    93990606\n",
      "\n",
      "countries     Thailand\n",
      "population    93990606\n",
      "Name: 2, dtype: object\n"
     ]
    }
   ],
   "source": [
    "# show DataFrame\n",
    "print(countries_df)\n",
    "print()\n",
    "\n",
    "# Get the most population country\n",
    "print(countries_df.iloc[countries_df[\"population\"].idxmax()])"
   ]
  }
 ],
 "metadata": {
  "kernelspec": {
   "display_name": "Python 3",
   "language": "python",
   "name": "python3"
  },
  "language_info": {
   "codemirror_mode": {
    "name": "ipython",
    "version": 3
   },
   "file_extension": ".py",
   "mimetype": "text/x-python",
   "name": "python",
   "nbconvert_exporter": "python",
   "pygments_lexer": "ipython3",
   "version": "3.6.3"
  }
 },
 "nbformat": 4,
 "nbformat_minor": 2
}
