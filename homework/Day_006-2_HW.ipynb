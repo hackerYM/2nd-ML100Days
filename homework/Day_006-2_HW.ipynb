{
 "cells": [
  {
   "cell_type": "markdown",
   "metadata": {},
   "source": [
    "<font face=\"微軟正黑體\">\n",
    "\n",
    "## 檢視與處理 Outliers\n",
    "\n",
    "### 為何會有 outliers, 常見的 outlier 原因\n",
    "* 未知值，隨意填補 (約定俗成的代入)，如年齡常見 0,999\n",
    "* 可能的錯誤紀錄/手誤/系統性錯誤，如某本書在某筆訂單的銷售量 = 1000 本\n",
    "\n",
    "### [作業目標]\n",
    "- 依照下列提示與引導, 以幾種不同的方式, 檢視可能的離群值\n",
    "\n",
    "### [作業重點]\n",
    "- 從原始資料篩選可能的欄位, 看看那些欄位可能有離群值 (In[3], Out[3])\n",
    "- 繪製目標值累積密度函數(ECDF)的圖形, 和常態分布的累積密度函數對比, 以確認是否有離群值的情形 (In[6], Out[6], In[7], Out[7])"
   ]
  },
  {
   "cell_type": "code",
   "execution_count": null,
   "metadata": {},
   "outputs": [
    {
     "name": "stderr",
     "output_type": "stream",
     "text": [
      "C:\\Users\\Lenovo\\Anaconda3\\lib\\site-packages\\statsmodels\\compat\\pandas.py:56: FutureWarning: The pandas.core.datetools module is deprecated and will be removed in a future version. Please use the pandas.tseries module instead.\n",
      "  from pandas.core import datetools\n"
     ]
    }
   ],
   "source": [
    "import os\n",
    "import numpy as np\n",
    "import pandas as pd\n",
    "\n",
    "import statsmodels.api as sm\n",
    "import matplotlib.pyplot as plt\n",
    "\n",
    "%matplotlib inline\n",
    "\n",
    "dir_data = '../data/'\n",
    "csv_file = \"application_train.csv\""
   ]
  },
  {
   "cell_type": "code",
   "execution_count": null,
   "metadata": {},
   "outputs": [
    {
     "name": "stdout",
     "output_type": "stream",
     "text": [
      "Path of read in data: ../data/application_train.csv\n"
     ]
    }
   ],
   "source": [
    "f_app = os.path.join(dir_data, csv_file)\n",
    "print('Path of read in data: %s' % (f_app))\n",
    "\n",
    "app_train = pd.read_csv(f_app)\n",
    "app_train.head()"
   ]
  },
  {
   "cell_type": "markdown",
   "metadata": {},
   "source": [
    "<font face=\"微軟正黑體\">\n",
    "\n",
    "#### 請參考 HomeCredit_columns_description.csv 的欄位說明\n",
    "\n",
    "- 觀察並列出三個你覺得可能有 outlier 的欄位並解釋可能的原因"
   ]
  },
  {
   "cell_type": "code",
   "execution_count": null,
   "metadata": {},
   "outputs": [],
   "source": [
    "\"\"\"\n",
    "YOUR CODE HERE, fill correct data types and select numeric column exclude only two data (0, 1) \n",
    "\"\"\"\n",
    "\n",
    "select_numeric_dtype = [np.dtype(\"int64\"), np.dtype(\"float64\")]\n",
    "select_non_two_data = lambda x: len(x.unique()) != 2\n",
    "\n",
    "numeric_columns = app_train.columns[app_train.dtypes.isin(select_numeric_dtype)]\n",
    "numeric_columns = numeric_columns[app_train[numeric_columns].apply(select_non_two_data)].tolist()\n",
    "\n",
    "print(\"Head 5 of remain columns: {}\".format(numeric_columns[:5]))\n",
    "print(\"Numbers of remain columns: {}\".format(len(numeric_columns)))"
   ]
  },
  {
   "cell_type": "code",
   "execution_count": null,
   "metadata": {},
   "outputs": [],
   "source": [
    "\"\"\"\n",
    "Your CODE HERE, make the box plot (Head 6)\n",
    "\"\"\"\n",
    "\n",
    "plt.figure(figsize=(18, 12))\n",
    "count = 6\n",
    "\n",
    "for idx, column in enumerate(numeric_columns[:count]):\n",
    "    plt.subplot(2, count//2, idx+1)\n",
    "    app_train.boxplot(column=column)\n",
    "    \n",
    "plt.show()"
   ]
  },
  {
   "cell_type": "code",
   "execution_count": null,
   "metadata": {},
   "outputs": [],
   "source": [
    "\"\"\"\n",
    "Your CODE HERE, make the box plot (suspicious columns)\n",
    "\"\"\"\n",
    "\n",
    "plt.figure(figsize=(16, 8))\n",
    "suspicious_columns = [\"AMT_INCOME_TOTAL\", \"REGION_POPULATION_RELATIVE\", \"OBS_60_CNT_SOCIAL_CIRCLE\"]\n",
    "\n",
    "for idx, column in enumerate(suspicious_columns):\n",
    "    plt.subplot(1, len(suspicious_columns), idx+1)\n",
    "    app_train.boxplot(column=column)\n",
    "    \n",
    "plt.show()"
   ]
  },
  {
   "cell_type": "markdown",
   "metadata": {},
   "source": [
    "<font face=\"微軟正黑體\">\n",
    "\n",
    "### Hints: Empirical Cumulative Density Plot, [ECDF](https://zh.wikipedia.org/wiki/%E7%BB%8F%E9%AA%8C%E5%88%86%E5%B8%83%E5%87%BD%E6%95%B0), [ECDF with Python](https://stackoverflow.com/questions/14006520/ecdf-in-python-without-step-function)\n",
    "\n",
    "發現欄位 AMT_INCOME_TOTAL 最大值離平均與中位數很遠\n"
   ]
  },
  {
   "cell_type": "code",
   "execution_count": null,
   "metadata": {},
   "outputs": [],
   "source": [
    "# Draw Empirical Cumulative Density Plot - method 1 (use package)\n",
    "\n",
    "def draw_ecdf(idx, column):\n",
    "    \n",
    "    cdf = sm.distributions.ECDF(app_train[column])\n",
    "    plt.subplot(1, 2, idx)\n",
    "    plt.plot(cdf.x, cdf.y)\n",
    "    \n",
    "    plt.xlabel('Value') \n",
    "    plt.ylabel('ECDF')\n",
    "    plt.title(column)\n",
    "\n",
    "plt.figure(figsize=(16, 6))\n",
    "draw_ecdf(1, \"AMT_INCOME_TOTAL\")\n",
    "draw_ecdf(2, \"REGION_POPULATION_RELATIVE\")\n",
    "\n",
    "plt.show()"
   ]
  },
  {
   "cell_type": "code",
   "execution_count": null,
   "metadata": {},
   "outputs": [],
   "source": [
    "# Draw Empirical Cumulative Density Plot - method 2 (use numpy)\n",
    "\n",
    "print(app_train['AMT_INCOME_TOTAL'].describe())\n",
    "\n",
    "plt.figure(figsize=(16, 6))\n",
    "cdf = np.cumsum(app_train['AMT_INCOME_TOTAL'].value_counts().sort_index()) \n",
    "\n",
    "plt.subplot(1, 2, 1)\n",
    "plt.plot(list(cdf.index), cdf / cdf.max())\n",
    "plt.xlabel('Value')\n",
    "plt.ylabel('ECDF')\n",
    "\n",
    "plt.subplot(1, 2, 2)\n",
    "plt.plot(np.log(list(cdf.index)), cdf / cdf.max())  # 改變 y 軸的 Scale, 讓我們可以正常檢視 ECDF\n",
    "plt.xlabel('Value (log-scale)')\n",
    "plt.ylabel('ECDF')\n",
    "\n",
    "# plt.xlim([cdf.index.min(), cdf.index.max() * 1.05]) # 限制顯示圖片的範圍\n",
    "# plt.ylim([-0.05, 1.05]) # 限制顯示圖片的範圍\n",
    "plt.show()"
   ]
  },
  {
   "cell_type": "markdown",
   "metadata": {},
   "source": [
    "## 補充：Normal dist 的 ECDF\n",
    "![ecdf_normal](https://au.mathworks.com/help/examples/stats/win64/PlotEmpiricalCdfAndCompareWithSamplingDistributionExample_01.png)"
   ]
  },
  {
   "cell_type": "code",
   "execution_count": null,
   "metadata": {},
   "outputs": [],
   "source": [
    "# CDF vs ECDF\n",
    "\n",
    "plt.figure(figsize=(16, 6))\n",
    "\n",
    "cdf = np.cumsum(app_train['REGION_POPULATION_RELATIVE'].value_counts().sort_index())\n",
    "x, y = list(cdf.index), cdf / cdf.max()\n",
    "\n",
    "plt.subplot(1, 2, 1)\n",
    "plt.plot(x, y)\n",
    "plt.title('CDF')\n",
    "\n",
    "x = np.sort(app_train['REGION_POPULATION_RELATIVE'])\n",
    "y = np.arange(1, len(x)+1) / len(x)\n",
    "\n",
    "plt.subplot(1, 2, 2)\n",
    "plt.plot(x, y)\n",
    "plt.title('ECDF')\n",
    "\n",
    "plt.show()"
   ]
  },
  {
   "cell_type": "markdown",
   "metadata": {},
   "source": [
    "<font face=\"微軟正黑體\">\n",
    "\n",
    "### REGION_POPULATION_RELATIVE 最大值落在分布之外\n",
    "\n",
    "就以這個欄位來說，雖然有資料掉在分布以外，也不算異常，僅代表這間公司在稍微熱鬧的地區有的據點較少，導致 region population relative 在少的部分較為密集，但在大的部分較為疏漏\n"
   ]
  },
  {
   "cell_type": "code",
   "execution_count": null,
   "metadata": {},
   "outputs": [],
   "source": [
    "print(app_train['REGION_POPULATION_RELATIVE'].describe())\n",
    "\n",
    "cdf = np.cumsum(app_train['REGION_POPULATION_RELATIVE'].value_counts().sort_index()) \n",
    "\n",
    "plt.plot(list(cdf.index), cdf/cdf.max())\n",
    "plt.xlabel('Value')\n",
    "plt.ylabel('ECDF')\n",
    "plt.show()\n",
    "\n",
    "app_train['REGION_POPULATION_RELATIVE'].hist()\n",
    "plt.show()"
   ]
  },
  {
   "cell_type": "markdown",
   "metadata": {},
   "source": [
    "<font face=\"微軟正黑體\">\n",
    "\n",
    "### 注意：當 histogram 畫出下面這種圖\n",
    "\n",
    "只出現一條，但是 x 軸延伸很長導致右邊有一大片空白時，代表右邊有值但是數量稀少。這時可以考慮用 value_counts 去找到這些數值"
   ]
  },
  {
   "cell_type": "code",
   "execution_count": null,
   "metadata": {},
   "outputs": [],
   "source": [
    "print(app_train['OBS_60_CNT_SOCIAL_CIRCLE'].describe())\n",
    "\n",
    "cdf = np.cumsum(app_train['OBS_60_CNT_SOCIAL_CIRCLE'].value_counts().sort_index()) \n",
    "\n",
    "plt.plot(list(cdf.index), cdf/cdf.max())\n",
    "plt.xlabel('Value')\n",
    "plt.ylabel('ECDF')\n",
    "plt.show()\n",
    "\n",
    "app_train['OBS_60_CNT_SOCIAL_CIRCLE'].hist()\n",
    "plt.show()"
   ]
  },
  {
   "cell_type": "code",
   "execution_count": null,
   "metadata": {},
   "outputs": [],
   "source": [
    "value_counts = app_train['OBS_60_CNT_SOCIAL_CIRCLE'].value_counts().sort_index(ascending = False)\n",
    "print(value_counts[value_counts.index > 20])"
   ]
  },
  {
   "cell_type": "code",
   "execution_count": null,
   "metadata": {},
   "outputs": [],
   "source": [
    "# 把一些極端值暫時去掉，在繪製一次 Histogram，選擇 OBS_60_CNT_SOCIAL_CIRCLE 小於 20 的資料點繪製\n",
    "\n",
    "loc_a = app_train[\"OBS_60_CNT_SOCIAL_CIRCLE\"] <= 20\n",
    "loc_b = ['OBS_60_CNT_SOCIAL_CIRCLE']\n",
    "\n",
    "app_train.loc[loc_a, loc_b].hist(figsize=(10, 5))\n",
    "plt.show()"
   ]
  },
  {
   "cell_type": "code",
   "execution_count": null,
   "metadata": {
    "collapsed": true
   },
   "outputs": [],
   "source": []
  }
 ],
 "metadata": {
  "anaconda-cloud": {},
  "kernelspec": {
   "display_name": "Python 3",
   "language": "python",
   "name": "python3"
  },
  "language_info": {
   "codemirror_mode": {
    "name": "ipython",
    "version": 3
   },
   "file_extension": ".py",
   "mimetype": "text/x-python",
   "name": "python",
   "nbconvert_exporter": "python",
   "pygments_lexer": "ipython3",
   "version": "3.6.3"
  }
 },
 "nbformat": 4,
 "nbformat_minor": 1
}
